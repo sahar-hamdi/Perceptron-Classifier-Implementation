{
 "cells": [
  {
   "cell_type": "code",
   "execution_count": 94,
   "id": "18464019",
   "metadata": {},
   "outputs": [],
   "source": [
    "import numpy as np\n",
    "import pandas as pd\n",
    "import matplotlib.pyplot as plt\n",
    "import sklearn\n",
    "from sklearn.metrics import accuracy_score\n",
    "from sklearn.metrics import confusion_matrix\n",
    "from sklearn.model_selection import train_test_split"
   ]
  },
  {
   "cell_type": "markdown",
   "id": "df547e04",
   "metadata": {},
   "source": [
    "**1- Load and Shuffle Data**"
   ]
  },
  {
   "cell_type": "code",
   "execution_count": 95,
   "id": "05784d1a",
   "metadata": {},
   "outputs": [],
   "source": [
    "banknote_df = pd.read_csv('data_banknote_authentication.csv')"
   ]
  },
  {
   "cell_type": "code",
   "execution_count": 96,
   "id": "3e31fd6c",
   "metadata": {},
   "outputs": [
    {
     "data": {
      "text/html": [
       "<div>\n",
       "<style scoped>\n",
       "    .dataframe tbody tr th:only-of-type {\n",
       "        vertical-align: middle;\n",
       "    }\n",
       "\n",
       "    .dataframe tbody tr th {\n",
       "        vertical-align: top;\n",
       "    }\n",
       "\n",
       "    .dataframe thead th {\n",
       "        text-align: right;\n",
       "    }\n",
       "</style>\n",
       "<table border=\"1\" class=\"dataframe\">\n",
       "  <thead>\n",
       "    <tr style=\"text-align: right;\">\n",
       "      <th></th>\n",
       "      <th>variance</th>\n",
       "      <th>skewness</th>\n",
       "      <th>-2.8073</th>\n",
       "      <th>-0.44699</th>\n",
       "      <th>class</th>\n",
       "    </tr>\n",
       "  </thead>\n",
       "  <tbody>\n",
       "    <tr>\n",
       "      <th>0</th>\n",
       "      <td>4.54590</td>\n",
       "      <td>8.16740</td>\n",
       "      <td>-2.4586</td>\n",
       "      <td>-1.46210</td>\n",
       "      <td>0</td>\n",
       "    </tr>\n",
       "    <tr>\n",
       "      <th>1</th>\n",
       "      <td>3.86600</td>\n",
       "      <td>-2.63830</td>\n",
       "      <td>1.9242</td>\n",
       "      <td>0.10645</td>\n",
       "      <td>0</td>\n",
       "    </tr>\n",
       "    <tr>\n",
       "      <th>2</th>\n",
       "      <td>3.45660</td>\n",
       "      <td>9.52280</td>\n",
       "      <td>-4.0112</td>\n",
       "      <td>-3.59440</td>\n",
       "      <td>0</td>\n",
       "    </tr>\n",
       "    <tr>\n",
       "      <th>3</th>\n",
       "      <td>0.32924</td>\n",
       "      <td>-4.45520</td>\n",
       "      <td>4.5718</td>\n",
       "      <td>-0.98880</td>\n",
       "      <td>0</td>\n",
       "    </tr>\n",
       "    <tr>\n",
       "      <th>4</th>\n",
       "      <td>4.36840</td>\n",
       "      <td>9.67180</td>\n",
       "      <td>-3.9606</td>\n",
       "      <td>-3.16250</td>\n",
       "      <td>0</td>\n",
       "    </tr>\n",
       "    <tr>\n",
       "      <th>...</th>\n",
       "      <td>...</td>\n",
       "      <td>...</td>\n",
       "      <td>...</td>\n",
       "      <td>...</td>\n",
       "      <td>...</td>\n",
       "    </tr>\n",
       "    <tr>\n",
       "      <th>1366</th>\n",
       "      <td>0.40614</td>\n",
       "      <td>1.34920</td>\n",
       "      <td>-1.4501</td>\n",
       "      <td>-0.55949</td>\n",
       "      <td>1</td>\n",
       "    </tr>\n",
       "    <tr>\n",
       "      <th>1367</th>\n",
       "      <td>-1.38870</td>\n",
       "      <td>-4.87730</td>\n",
       "      <td>6.4774</td>\n",
       "      <td>0.34179</td>\n",
       "      <td>1</td>\n",
       "    </tr>\n",
       "    <tr>\n",
       "      <th>1368</th>\n",
       "      <td>-3.75030</td>\n",
       "      <td>-13.45860</td>\n",
       "      <td>17.5932</td>\n",
       "      <td>-2.77710</td>\n",
       "      <td>1</td>\n",
       "    </tr>\n",
       "    <tr>\n",
       "      <th>1369</th>\n",
       "      <td>-3.56370</td>\n",
       "      <td>-8.38270</td>\n",
       "      <td>12.3930</td>\n",
       "      <td>-1.28230</td>\n",
       "      <td>1</td>\n",
       "    </tr>\n",
       "    <tr>\n",
       "      <th>1370</th>\n",
       "      <td>-2.54190</td>\n",
       "      <td>-0.65804</td>\n",
       "      <td>2.6842</td>\n",
       "      <td>1.19520</td>\n",
       "      <td>1</td>\n",
       "    </tr>\n",
       "  </tbody>\n",
       "</table>\n",
       "<p>1371 rows × 5 columns</p>\n",
       "</div>"
      ],
      "text/plain": [
       "      variance  skewness  -2.8073  -0.44699  class\n",
       "0      4.54590   8.16740  -2.4586  -1.46210      0\n",
       "1      3.86600  -2.63830   1.9242   0.10645      0\n",
       "2      3.45660   9.52280  -4.0112  -3.59440      0\n",
       "3      0.32924  -4.45520   4.5718  -0.98880      0\n",
       "4      4.36840   9.67180  -3.9606  -3.16250      0\n",
       "...        ...       ...      ...       ...    ...\n",
       "1366   0.40614   1.34920  -1.4501  -0.55949      1\n",
       "1367  -1.38870  -4.87730   6.4774   0.34179      1\n",
       "1368  -3.75030 -13.45860  17.5932  -2.77710      1\n",
       "1369  -3.56370  -8.38270  12.3930  -1.28230      1\n",
       "1370  -2.54190  -0.65804   2.6842   1.19520      1\n",
       "\n",
       "[1371 rows x 5 columns]"
      ]
     },
     "execution_count": 96,
     "metadata": {},
     "output_type": "execute_result"
    }
   ],
   "source": [
    "banknote_df"
   ]
  },
  {
   "cell_type": "code",
   "execution_count": 97,
   "id": "31d1e64a",
   "metadata": {
    "scrolled": true
   },
   "outputs": [
    {
     "data": {
      "text/plain": [
       "(1371, 5)"
      ]
     },
     "execution_count": 97,
     "metadata": {},
     "output_type": "execute_result"
    }
   ],
   "source": [
    "banknote_df.shape"
   ]
  },
  {
   "cell_type": "code",
   "execution_count": 98,
   "id": "2264a34b",
   "metadata": {},
   "outputs": [
    {
     "name": "stdout",
     "output_type": "stream",
     "text": [
      "<class 'pandas.core.frame.DataFrame'>\n",
      "RangeIndex: 1371 entries, 0 to 1370\n",
      "Data columns (total 5 columns):\n",
      " #   Column    Non-Null Count  Dtype  \n",
      "---  ------    --------------  -----  \n",
      " 0   variance  1371 non-null   float64\n",
      " 1   skewness  1371 non-null   float64\n",
      " 2   -2.8073   1371 non-null   float64\n",
      " 3   -0.44699  1371 non-null   float64\n",
      " 4   class     1371 non-null   int64  \n",
      "dtypes: float64(4), int64(1)\n",
      "memory usage: 53.7 KB\n"
     ]
    }
   ],
   "source": [
    "banknote_df.info()"
   ]
  },
  {
   "cell_type": "code",
   "execution_count": 99,
   "id": "ae82cd92",
   "metadata": {},
   "outputs": [
    {
     "data": {
      "text/html": [
       "<div>\n",
       "<style scoped>\n",
       "    .dataframe tbody tr th:only-of-type {\n",
       "        vertical-align: middle;\n",
       "    }\n",
       "\n",
       "    .dataframe tbody tr th {\n",
       "        vertical-align: top;\n",
       "    }\n",
       "\n",
       "    .dataframe thead th {\n",
       "        text-align: right;\n",
       "    }\n",
       "</style>\n",
       "<table border=\"1\" class=\"dataframe\">\n",
       "  <thead>\n",
       "    <tr style=\"text-align: right;\">\n",
       "      <th></th>\n",
       "      <th>variance</th>\n",
       "      <th>skewness</th>\n",
       "      <th>-2.8073</th>\n",
       "      <th>-0.44699</th>\n",
       "      <th>class</th>\n",
       "    </tr>\n",
       "  </thead>\n",
       "  <tbody>\n",
       "    <tr>\n",
       "      <th>count</th>\n",
       "      <td>1371.000000</td>\n",
       "      <td>1371.000000</td>\n",
       "      <td>1371.000000</td>\n",
       "      <td>1371.000000</td>\n",
       "      <td>1371.000000</td>\n",
       "    </tr>\n",
       "    <tr>\n",
       "      <th>mean</th>\n",
       "      <td>0.431410</td>\n",
       "      <td>1.917434</td>\n",
       "      <td>1.400694</td>\n",
       "      <td>-1.192200</td>\n",
       "      <td>0.444931</td>\n",
       "    </tr>\n",
       "    <tr>\n",
       "      <th>std</th>\n",
       "      <td>2.842494</td>\n",
       "      <td>5.868359</td>\n",
       "      <td>4.310105</td>\n",
       "      <td>2.101683</td>\n",
       "      <td>0.497139</td>\n",
       "    </tr>\n",
       "    <tr>\n",
       "      <th>min</th>\n",
       "      <td>-7.042100</td>\n",
       "      <td>-13.773100</td>\n",
       "      <td>-5.286100</td>\n",
       "      <td>-8.548200</td>\n",
       "      <td>0.000000</td>\n",
       "    </tr>\n",
       "    <tr>\n",
       "      <th>25%</th>\n",
       "      <td>-1.774700</td>\n",
       "      <td>-1.711300</td>\n",
       "      <td>-1.553350</td>\n",
       "      <td>-2.417000</td>\n",
       "      <td>0.000000</td>\n",
       "    </tr>\n",
       "    <tr>\n",
       "      <th>50%</th>\n",
       "      <td>0.495710</td>\n",
       "      <td>2.313400</td>\n",
       "      <td>0.616630</td>\n",
       "      <td>-0.586650</td>\n",
       "      <td>0.000000</td>\n",
       "    </tr>\n",
       "    <tr>\n",
       "      <th>75%</th>\n",
       "      <td>2.814650</td>\n",
       "      <td>6.813100</td>\n",
       "      <td>3.181600</td>\n",
       "      <td>0.394810</td>\n",
       "      <td>1.000000</td>\n",
       "    </tr>\n",
       "    <tr>\n",
       "      <th>max</th>\n",
       "      <td>6.824800</td>\n",
       "      <td>12.951600</td>\n",
       "      <td>17.927400</td>\n",
       "      <td>2.449500</td>\n",
       "      <td>1.000000</td>\n",
       "    </tr>\n",
       "  </tbody>\n",
       "</table>\n",
       "</div>"
      ],
      "text/plain": [
       "          variance     skewness      -2.8073     -0.44699        class\n",
       "count  1371.000000  1371.000000  1371.000000  1371.000000  1371.000000\n",
       "mean      0.431410     1.917434     1.400694    -1.192200     0.444931\n",
       "std       2.842494     5.868359     4.310105     2.101683     0.497139\n",
       "min      -7.042100   -13.773100    -5.286100    -8.548200     0.000000\n",
       "25%      -1.774700    -1.711300    -1.553350    -2.417000     0.000000\n",
       "50%       0.495710     2.313400     0.616630    -0.586650     0.000000\n",
       "75%       2.814650     6.813100     3.181600     0.394810     1.000000\n",
       "max       6.824800    12.951600    17.927400     2.449500     1.000000"
      ]
     },
     "execution_count": 99,
     "metadata": {},
     "output_type": "execute_result"
    }
   ],
   "source": [
    "banknote_df.describe()"
   ]
  },
  {
   "cell_type": "code",
   "execution_count": 100,
   "id": "183ea0e2",
   "metadata": {},
   "outputs": [
    {
     "data": {
      "text/html": [
       "<div>\n",
       "<style scoped>\n",
       "    .dataframe tbody tr th:only-of-type {\n",
       "        vertical-align: middle;\n",
       "    }\n",
       "\n",
       "    .dataframe tbody tr th {\n",
       "        vertical-align: top;\n",
       "    }\n",
       "\n",
       "    .dataframe thead th {\n",
       "        text-align: right;\n",
       "    }\n",
       "</style>\n",
       "<table border=\"1\" class=\"dataframe\">\n",
       "  <thead>\n",
       "    <tr style=\"text-align: right;\">\n",
       "      <th></th>\n",
       "      <th>variance</th>\n",
       "      <th>skewness</th>\n",
       "      <th>-2.8073</th>\n",
       "      <th>-0.44699</th>\n",
       "      <th>class</th>\n",
       "    </tr>\n",
       "  </thead>\n",
       "  <tbody>\n",
       "    <tr>\n",
       "      <th>84</th>\n",
       "      <td>4.02960</td>\n",
       "      <td>2.6756</td>\n",
       "      <td>0.806850</td>\n",
       "      <td>0.716790</td>\n",
       "      <td>0</td>\n",
       "    </tr>\n",
       "    <tr>\n",
       "      <th>35</th>\n",
       "      <td>2.68810</td>\n",
       "      <td>6.0195</td>\n",
       "      <td>-0.466410</td>\n",
       "      <td>-0.692680</td>\n",
       "      <td>0</td>\n",
       "    </tr>\n",
       "    <tr>\n",
       "      <th>160</th>\n",
       "      <td>3.54990</td>\n",
       "      <td>8.6165</td>\n",
       "      <td>-3.279400</td>\n",
       "      <td>-1.200900</td>\n",
       "      <td>0</td>\n",
       "    </tr>\n",
       "    <tr>\n",
       "      <th>1335</th>\n",
       "      <td>-2.05450</td>\n",
       "      <td>-10.8679</td>\n",
       "      <td>9.492600</td>\n",
       "      <td>-1.411600</td>\n",
       "      <td>1</td>\n",
       "    </tr>\n",
       "    <tr>\n",
       "      <th>712</th>\n",
       "      <td>4.09620</td>\n",
       "      <td>10.1891</td>\n",
       "      <td>-3.932300</td>\n",
       "      <td>-4.182700</td>\n",
       "      <td>0</td>\n",
       "    </tr>\n",
       "    <tr>\n",
       "      <th>...</th>\n",
       "      <td>...</td>\n",
       "      <td>...</td>\n",
       "      <td>...</td>\n",
       "      <td>...</td>\n",
       "      <td>...</td>\n",
       "    </tr>\n",
       "    <tr>\n",
       "      <th>1136</th>\n",
       "      <td>-1.58770</td>\n",
       "      <td>-6.6072</td>\n",
       "      <td>5.802200</td>\n",
       "      <td>0.315930</td>\n",
       "      <td>1</td>\n",
       "    </tr>\n",
       "    <tr>\n",
       "      <th>371</th>\n",
       "      <td>0.74307</td>\n",
       "      <td>11.1700</td>\n",
       "      <td>-1.382400</td>\n",
       "      <td>-4.072800</td>\n",
       "      <td>0</td>\n",
       "    </tr>\n",
       "    <tr>\n",
       "      <th>339</th>\n",
       "      <td>4.99230</td>\n",
       "      <td>7.8653</td>\n",
       "      <td>-2.351500</td>\n",
       "      <td>-0.719840</td>\n",
       "      <td>0</td>\n",
       "    </tr>\n",
       "    <tr>\n",
       "      <th>1033</th>\n",
       "      <td>0.67886</td>\n",
       "      <td>4.1199</td>\n",
       "      <td>-4.569000</td>\n",
       "      <td>-4.141400</td>\n",
       "      <td>1</td>\n",
       "    </tr>\n",
       "    <tr>\n",
       "      <th>110</th>\n",
       "      <td>1.51800</td>\n",
       "      <td>5.6946</td>\n",
       "      <td>0.094818</td>\n",
       "      <td>-0.026738</td>\n",
       "      <td>0</td>\n",
       "    </tr>\n",
       "  </tbody>\n",
       "</table>\n",
       "<p>1371 rows × 5 columns</p>\n",
       "</div>"
      ],
      "text/plain": [
       "      variance  skewness   -2.8073  -0.44699  class\n",
       "84     4.02960    2.6756  0.806850  0.716790      0\n",
       "35     2.68810    6.0195 -0.466410 -0.692680      0\n",
       "160    3.54990    8.6165 -3.279400 -1.200900      0\n",
       "1335  -2.05450  -10.8679  9.492600 -1.411600      1\n",
       "712    4.09620   10.1891 -3.932300 -4.182700      0\n",
       "...        ...       ...       ...       ...    ...\n",
       "1136  -1.58770   -6.6072  5.802200  0.315930      1\n",
       "371    0.74307   11.1700 -1.382400 -4.072800      0\n",
       "339    4.99230    7.8653 -2.351500 -0.719840      0\n",
       "1033   0.67886    4.1199 -4.569000 -4.141400      1\n",
       "110    1.51800    5.6946  0.094818 -0.026738      0\n",
       "\n",
       "[1371 rows x 5 columns]"
      ]
     },
     "execution_count": 100,
     "metadata": {},
     "output_type": "execute_result"
    }
   ],
   "source": [
    "# shuffle the DataFrame rows\n",
    "banknote_df.sample(frac = 1)"
   ]
  },
  {
   "cell_type": "markdown",
   "id": "dc4da5ff",
   "metadata": {},
   "source": [
    "**2- Rename Columns of our Data Frame**"
   ]
  },
  {
   "cell_type": "code",
   "execution_count": 101,
   "id": "fba905ce",
   "metadata": {},
   "outputs": [
    {
     "data": {
      "text/html": [
       "<div>\n",
       "<style scoped>\n",
       "    .dataframe tbody tr th:only-of-type {\n",
       "        vertical-align: middle;\n",
       "    }\n",
       "\n",
       "    .dataframe tbody tr th {\n",
       "        vertical-align: top;\n",
       "    }\n",
       "\n",
       "    .dataframe thead th {\n",
       "        text-align: right;\n",
       "    }\n",
       "</style>\n",
       "<table border=\"1\" class=\"dataframe\">\n",
       "  <thead>\n",
       "    <tr style=\"text-align: right;\">\n",
       "      <th></th>\n",
       "      <th>variance</th>\n",
       "      <th>skewness</th>\n",
       "      <th>-2.8073</th>\n",
       "      <th>-0.44699</th>\n",
       "      <th>class</th>\n",
       "    </tr>\n",
       "  </thead>\n",
       "  <tbody>\n",
       "    <tr>\n",
       "      <th>0</th>\n",
       "      <td>4.54590</td>\n",
       "      <td>8.16740</td>\n",
       "      <td>-2.4586</td>\n",
       "      <td>-1.46210</td>\n",
       "      <td>0</td>\n",
       "    </tr>\n",
       "    <tr>\n",
       "      <th>1</th>\n",
       "      <td>3.86600</td>\n",
       "      <td>-2.63830</td>\n",
       "      <td>1.9242</td>\n",
       "      <td>0.10645</td>\n",
       "      <td>0</td>\n",
       "    </tr>\n",
       "    <tr>\n",
       "      <th>2</th>\n",
       "      <td>3.45660</td>\n",
       "      <td>9.52280</td>\n",
       "      <td>-4.0112</td>\n",
       "      <td>-3.59440</td>\n",
       "      <td>0</td>\n",
       "    </tr>\n",
       "    <tr>\n",
       "      <th>3</th>\n",
       "      <td>0.32924</td>\n",
       "      <td>-4.45520</td>\n",
       "      <td>4.5718</td>\n",
       "      <td>-0.98880</td>\n",
       "      <td>0</td>\n",
       "    </tr>\n",
       "    <tr>\n",
       "      <th>4</th>\n",
       "      <td>4.36840</td>\n",
       "      <td>9.67180</td>\n",
       "      <td>-3.9606</td>\n",
       "      <td>-3.16250</td>\n",
       "      <td>0</td>\n",
       "    </tr>\n",
       "    <tr>\n",
       "      <th>...</th>\n",
       "      <td>...</td>\n",
       "      <td>...</td>\n",
       "      <td>...</td>\n",
       "      <td>...</td>\n",
       "      <td>...</td>\n",
       "    </tr>\n",
       "    <tr>\n",
       "      <th>1366</th>\n",
       "      <td>0.40614</td>\n",
       "      <td>1.34920</td>\n",
       "      <td>-1.4501</td>\n",
       "      <td>-0.55949</td>\n",
       "      <td>1</td>\n",
       "    </tr>\n",
       "    <tr>\n",
       "      <th>1367</th>\n",
       "      <td>-1.38870</td>\n",
       "      <td>-4.87730</td>\n",
       "      <td>6.4774</td>\n",
       "      <td>0.34179</td>\n",
       "      <td>1</td>\n",
       "    </tr>\n",
       "    <tr>\n",
       "      <th>1368</th>\n",
       "      <td>-3.75030</td>\n",
       "      <td>-13.45860</td>\n",
       "      <td>17.5932</td>\n",
       "      <td>-2.77710</td>\n",
       "      <td>1</td>\n",
       "    </tr>\n",
       "    <tr>\n",
       "      <th>1369</th>\n",
       "      <td>-3.56370</td>\n",
       "      <td>-8.38270</td>\n",
       "      <td>12.3930</td>\n",
       "      <td>-1.28230</td>\n",
       "      <td>1</td>\n",
       "    </tr>\n",
       "    <tr>\n",
       "      <th>1370</th>\n",
       "      <td>-2.54190</td>\n",
       "      <td>-0.65804</td>\n",
       "      <td>2.6842</td>\n",
       "      <td>1.19520</td>\n",
       "      <td>1</td>\n",
       "    </tr>\n",
       "  </tbody>\n",
       "</table>\n",
       "<p>1371 rows × 5 columns</p>\n",
       "</div>"
      ],
      "text/plain": [
       "      variance  skewness  -2.8073  -0.44699  class\n",
       "0      4.54590   8.16740  -2.4586  -1.46210      0\n",
       "1      3.86600  -2.63830   1.9242   0.10645      0\n",
       "2      3.45660   9.52280  -4.0112  -3.59440      0\n",
       "3      0.32924  -4.45520   4.5718  -0.98880      0\n",
       "4      4.36840   9.67180  -3.9606  -3.16250      0\n",
       "...        ...       ...      ...       ...    ...\n",
       "1366   0.40614   1.34920  -1.4501  -0.55949      1\n",
       "1367  -1.38870  -4.87730   6.4774   0.34179      1\n",
       "1368  -3.75030 -13.45860  17.5932  -2.77710      1\n",
       "1369  -3.56370  -8.38270  12.3930  -1.28230      1\n",
       "1370  -2.54190  -0.65804   2.6842   1.19520      1\n",
       "\n",
       "[1371 rows x 5 columns]"
      ]
     },
     "execution_count": 101,
     "metadata": {},
     "output_type": "execute_result"
    }
   ],
   "source": [
    "banknote_df.rename(columns=({'3.6216' : 'variance' , '8.6661' : 'skewness'}))"
   ]
  },
  {
   "cell_type": "markdown",
   "id": "48107c80",
   "metadata": {},
   "source": [
    "**3- Select Features and Labels**"
   ]
  },
  {
   "cell_type": "code",
   "execution_count": 102,
   "id": "846c22a8",
   "metadata": {},
   "outputs": [],
   "source": [
    "#variance and skewness are features.\n",
    "features = banknote_df.drop(['-2.8073' , '-0.44699' , 'class'] , axis = 1).values\n",
    "#class is the label.\n",
    "label = banknote_df[\"class\"]"
   ]
  },
  {
   "cell_type": "code",
   "execution_count": 103,
   "id": "749af1d8",
   "metadata": {},
   "outputs": [
    {
     "data": {
      "text/plain": [
       "(1371, 2)"
      ]
     },
     "execution_count": 103,
     "metadata": {},
     "output_type": "execute_result"
    }
   ],
   "source": [
    "features.shape"
   ]
  },
  {
   "cell_type": "code",
   "execution_count": 104,
   "id": "ff1803b9",
   "metadata": {},
   "outputs": [
    {
     "data": {
      "text/plain": [
       "(1371,)"
      ]
     },
     "execution_count": 104,
     "metadata": {},
     "output_type": "execute_result"
    }
   ],
   "source": [
    "label.shape"
   ]
  },
  {
   "cell_type": "markdown",
   "id": "a7eb2487",
   "metadata": {},
   "source": [
    "**4- Standradize Data**"
   ]
  },
  {
   "cell_type": "code",
   "execution_count": 105,
   "id": "edcca962",
   "metadata": {},
   "outputs": [],
   "source": [
    "#Standradize \n",
    "features = (features - np.mean(features , axis = 0)) / np.std(features , axis = 0 , ddof = 1)"
   ]
  },
  {
   "cell_type": "code",
   "execution_count": 106,
   "id": "f79ae37f",
   "metadata": {},
   "outputs": [
    {
     "data": {
      "text/plain": [
       "array([[ 1.4474927 ,  1.06502792],\n",
       "       [ 1.20830138, -0.77632172],\n",
       "       [ 1.06427296,  1.2959954 ],\n",
       "       ...,\n",
       "       [-1.47114098, -2.62015929],\n",
       "       [-1.40549441, -1.75519851],\n",
       "       [-1.04602141, -0.43887473]])"
      ]
     },
     "execution_count": 106,
     "metadata": {},
     "output_type": "execute_result"
    }
   ],
   "source": [
    "features"
   ]
  },
  {
   "cell_type": "markdown",
   "id": "f44f2b5a",
   "metadata": {},
   "source": [
    " **The Scatter plot for Data Standradizatin**"
   ]
  },
  {
   "cell_type": "code",
   "execution_count": 107,
   "id": "36be91ac",
   "metadata": {},
   "outputs": [
    {
     "data": {
      "image/png": "[encoded data removed]",
      "text/plain": [
       "<Figure size 640x480 with 1 Axes>"
      ]
     },
     "metadata": {},
     "output_type": "display_data"
    }
   ],
   "source": [
    "plt.scatter(features[ : , 0][label == 0 ] , features[ : , 1][label == 0] , c = 'g')\n",
    "plt.scatter(features[ : , 0][label == 1 ] , features[ : , 1][label == 1] , c = 'y')\n",
    "plt.xlabel(\"feature 1\")\n",
    "plt.ylabel(\"feature 2\")\n",
    "plt.title(\"Standradize Data Scatter Plot\")\n",
    "plt.show()"
   ]
  },
  {
   "cell_type": "markdown",
   "id": "8b6aefb7",
   "metadata": {},
   "source": [
    "**Perceptron Implementation**"
   ]
  },
  {
   "cell_type": "code",
   "execution_count": 108,
   "id": "3ef56172",
   "metadata": {},
   "outputs": [],
   "source": [
    "#intialize learning rate and number of iterations\n",
    "alpha = 0.0001\n",
    "num_iterations = 1000"
   ]
  },
  {
   "cell_type": "code",
   "execution_count": 109,
   "id": "f63caf9a",
   "metadata": {},
   "outputs": [],
   "source": [
    "def perceptron(x, y, alpha, num_iterations):\n",
    "    # initialize the bias parameter and the weights\n",
    "    y_pred = []\n",
    "    b = 0\n",
    "    num_samples, num_features = x.shape\n",
    "    w = np.zeros((num_features,))\n",
    "    z = np.zeros((num_samples,))\n",
    "    for i in range(num_iterations):\n",
    "        n_error = 0 \n",
    "        for j in range(num_samples):\n",
    "            z[j] = np.dot(w, x[j]) + b\n",
    "            if z[j] > 0:\n",
    "                yhat = 1\n",
    "            else:\n",
    "                yhat = 0\n",
    "            #count number of errors\n",
    "            if yhat != y[j]:\n",
    "                n_error += 1\n",
    "            w -= alpha * (yhat - y[j]) * x[j]\n",
    "            b -= alpha * (yhat - y[j])\n",
    "            y_pred.append(yhat)\n",
    "    accuracy = 100 * (n_error / x.shape[0])\n",
    "    return w, b , accuracy"
   ]
  },
  {
   "cell_type": "code",
   "execution_count": 110,
   "id": "6d69708e",
   "metadata": {},
   "outputs": [],
   "source": [
    "perceptron_test = perceptron(features , label , alpha , num_iterations)"
   ]
  },
  {
   "cell_type": "code",
   "execution_count": 111,
   "id": "1d0f1ae2",
   "metadata": {},
   "outputs": [
    {
     "data": {
      "text/plain": [
       "(array([-1.73691109e-04, -7.23374086e-05]),\n",
       " 0.00019999999999999998,\n",
       " 0.7293946024799417)"
      ]
     },
     "execution_count": 111,
     "metadata": {},
     "output_type": "execute_result"
    }
   ],
   "source": [
    "perceptron_test"
   ]
  },
  {
   "cell_type": "markdown",
   "id": "ac53fcc3",
   "metadata": {},
   "source": [
    "**Split Data**"
   ]
  },
  {
   "cell_type": "code",
   "execution_count": 112,
   "id": "8137a2a1",
   "metadata": {},
   "outputs": [
    {
     "name": "stdout",
     "output_type": "stream",
     "text": [
      "[[138  10]\n",
      " [ 39  88]]\n"
     ]
    }
   ],
   "source": [
    "# Split the data into training and test sets\n",
    "x_train, x_test, y_train, y_test = train_test_split(features, label, test_size=0.2, random_state=42)\n",
    "y_train = y_train.reset_index(drop=True)\n",
    "# Train the perceptron model on the training set\n",
    "alpha = 0.01\n",
    "num_iterations = 1000\n",
    "w, b , accuracy = perceptron(x_train, y_train, alpha, num_iterations)\n",
    "\n",
    "# Make predictions on the test set\n",
    "y_pred = []\n",
    "for j in range(len(x_test)):\n",
    "    z = np.dot(w, x_test[j]) + b\n",
    "    if z > 0:\n",
    "        yhat = 1\n",
    "    else:\n",
    "        yhat = 0\n",
    "    y_pred.append(yhat)\n",
    "# Construct the confusion matrix\n",
    "#Confusion matrix is used to tell us how many correct classifiers and how many wrong.\n",
    "cm = confusion_matrix(y_test, y_pred)\n",
    "print(cm)"
   ]
  },
  {
   "cell_type": "code",
   "execution_count": 113,
   "id": "0e13c652",
   "metadata": {},
   "outputs": [
    {
     "name": "stdout",
     "output_type": "stream",
     "text": [
      "Accuracy: 0.8218181818181818\n"
     ]
    }
   ],
   "source": [
    "acc = accuracy_score(y_test, y_pred)\n",
    "print(\"Accuracy:\", acc)"
   ]
  },
  {
   "cell_type": "markdown",
   "id": "3ef82bde",
   "metadata": {},
   "source": [
    "**Boundry Line for Perceptron**"
   ]
  },
  {
   "cell_type": "code",
   "execution_count": 114,
   "id": "eaf7b512",
   "metadata": {},
   "outputs": [
    {
     "data": {
      "image/png": "[encoded data removed]",
      "text/plain": [
       "<Figure size 640x480 with 1 Axes>"
      ]
     },
     "metadata": {},
     "output_type": "display_data"
    }
   ],
   "source": [
    "# Define the slope and intercept of the decision boundary line\n",
    "slope = -w[0] / w[1]\n",
    "intercept = -b / w[1]\n",
    "\n",
    "# Create a scatter plot of the data\n",
    "plt.scatter(features[ : , 0][label == 0 ] , features[ : , 1][label == 0] , c = 'g')\n",
    "plt.scatter(features[ : , 0][label == 1 ] , features[ : , 1][label == 1] , c = 'y')\n",
    "\n",
    "plt.xlabel(\"feature 1\")\n",
    "plt.ylabel(\"feature 2\")\n",
    "plt.title(\"Boundry Line for Perceptron Classifier\")\n",
    "\n",
    "# Plot the decision boundary line\n",
    "x_vals = np.array([features[:, 0].min(), features[:, 0].max()])\n",
    "y_vals = slope * x_vals + intercept\n",
    "plt.plot(x_vals, y_vals, '--')\n",
    "plt.show()"
   ]
  }
 ],
 "metadata": {
  "kernelspec": {
   "display_name": "Python 3 (ipykernel)",
   "language": "python",
   "name": "python3"
  },
  "language_info": {
   "codemirror_mode": {
    "name": "ipython",
    "version": 3
   },
   "file_extension": ".py",
   "mimetype": "text/x-python",
   "name": "python",
   "nbconvert_exporter": "python",
   "pygments_lexer": "ipython3",
   "version": "3.10.3"
  }
 },
 "nbformat": 4,
 "nbformat_minor": 5
}
